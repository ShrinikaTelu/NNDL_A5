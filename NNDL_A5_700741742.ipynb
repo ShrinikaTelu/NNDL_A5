{
  "nbformat": 4,
  "nbformat_minor": 0,
  "metadata": {
    "colab": {
      "provenance": []
    },
    "kernelspec": {
      "name": "python3",
      "display_name": "Python 3"
    },
    "language_info": {
      "name": "python"
    }
  },
  "cells": [
    {
      "cell_type": "code",
      "execution_count": 1,
      "metadata": {
        "id": "2Ef6FTdJdMLO"
      },
      "outputs": [],
      "source": [
        "import pandas as pd #Basic packages for creating dataframes and loading dataset\n",
        "import numpy as np\n",
        "\n",
        "import matplotlib.pyplot as plt #Package for visualization\n",
        "\n",
        "import re #importing package for Regular expression operations\n",
        "\n",
        "from sklearn.model_selection import train_test_split #Package for splitting the data\n",
        "\n",
        "from sklearn.preprocessing import LabelEncoder #Package for conversion of categorical to Numerical\n",
        "\n",
        "from keras.preprocessing.text import Tokenizer #Tokenization\n",
        "from tensorflow.keras.preprocessing.sequence import pad_sequences #Add zeros or crop based on the length\n",
        "from keras.models import Sequential #Sequential Neural Network\n",
        "from keras.layers import Dense, Embedding, LSTM, SpatialDropout1D #For layers in Neural Network\n",
        "from keras.utils.np_utils import to_categorical"
      ]
    },
    {
      "cell_type": "code",
      "source": [
        "from google.colab import drive\n",
        "drive.mount('/content/gdrive')"
      ],
      "metadata": {
        "colab": {
          "base_uri": "https://localhost:8080/"
        },
        "id": "NiN7RxlPdUTR",
        "outputId": "54f4b26c-eb8c-46c0-d4dc-ca354f257134"
      },
      "execution_count": 2,
      "outputs": [
        {
          "output_type": "stream",
          "name": "stdout",
          "text": [
            "Mounted at /content/gdrive\n"
          ]
        }
      ]
    },
    {
      "cell_type": "code",
      "source": [
        "import pandas as pd\n",
        "\n",
        "# Load the dataset as a Pandas DataFrame\n",
        "dataset = pd.read_csv('/content/gdrive/My Drive/Sentiment.csv')\n",
        "\n",
        "# Select only the necessary columns 'text' and 'sentiment'\n",
        "mask = dataset.columns.isin(['text', 'sentiment'])\n",
        "data = dataset.loc[:, mask]\n",
        "\n",
        "# Keeping only the necessary columns\n",
        "data['text'] = data['text'].apply(lambda x: x.lower())\n",
        "data['text'] = data['text'].apply((lambda x: re.sub('[^a-zA-z0-9\\s]', '', x)))"
      ],
      "metadata": {
        "colab": {
          "base_uri": "https://localhost:8080/"
        },
        "id": "3JbFhAJDdVRo",
        "outputId": "25fe3e2d-9d90-466b-830b-7cb8cfab3bc1"
      },
      "execution_count": 3,
      "outputs": [
        {
          "output_type": "stream",
          "name": "stderr",
          "text": [
            "<ipython-input-3-d0e745dc69e5>:11: SettingWithCopyWarning: \n",
            "A value is trying to be set on a copy of a slice from a DataFrame.\n",
            "Try using .loc[row_indexer,col_indexer] = value instead\n",
            "\n",
            "See the caveats in the documentation: https://pandas.pydata.org/pandas-docs/stable/user_guide/indexing.html#returning-a-view-versus-a-copy\n",
            "  data['text'] = data['text'].apply(lambda x: x.lower())\n",
            "<ipython-input-3-d0e745dc69e5>:12: SettingWithCopyWarning: \n",
            "A value is trying to be set on a copy of a slice from a DataFrame.\n",
            "Try using .loc[row_indexer,col_indexer] = value instead\n",
            "\n",
            "See the caveats in the documentation: https://pandas.pydata.org/pandas-docs/stable/user_guide/indexing.html#returning-a-view-versus-a-copy\n",
            "  data['text'] = data['text'].apply((lambda x: re.sub('[^a-zA-z0-9\\s]', '', x)))\n"
          ]
        }
      ]
    },
    {
      "cell_type": "code",
      "source": [
        "for idx, row in data.iterrows():\n",
        "    row[0] = row[0].replace('rt', ' ') #Removing Retweets\n",
        "    max_fatures = 2000\n",
        "tokenizer = Tokenizer(num_words=max_fatures, split=' ') #Maximum words is 2000 to tokenize sentence\n",
        "tokenizer.fit_on_texts(data['text'].values)\n",
        "X = tokenizer.texts_to_sequences(data['text'].values) #taking values to feature matrix\n",
        "X = pad_sequences(X) #Padding the feature matrix\n",
        "\n",
        "embed_dim = 128 #Dimension of the Embedded layer\n",
        "lstm_out = 196 #Long short-term memory (LSTM) layer neurons\n",
        "def createmodel():\n",
        "    model = Sequential() #Sequential Neural Network\n",
        "    model.add(Embedding(max_fatures, embed_dim,input_length = X.shape[1])) #input dimension 2000 Neurons, output dimension 128 Neurons\n",
        "    model.add(LSTM(lstm_out, dropout=0.2, recurrent_dropout=0.2)) #Drop out 20%, 196 output Neurons, recurrent dropout 20%\n",
        "    model.add(Dense(3,activation='softmax')) #3 output neurons[positive, Neutral, Negative], softmax as activation\n",
        "    model.compile(loss = 'categorical_crossentropy', optimizer='adam',metrics = ['accuracy']) #Compiling the model\n",
        "    return model\n",
        "# print(model.summary())\n",
        "labelencoder = LabelEncoder() #Applying label Encoding on the label matrix\n",
        "integer_encoded = labelencoder.fit_transform(data['sentiment']) #fitting the model\n",
        "y = to_categorical(integer_encoded)\n",
        "X_train, X_test, Y_train, Y_test = train_test_split(X,y, test_size = 0.33, random_state = 42) #67% training data, 33% test data split\n",
        "batch_size = 32 #Batch size 32\n",
        "model = createmodel() #Function call to Sequential Neural Network\n",
        "model.fit(X_train, Y_train, epochs = 1, batch_size=batch_size, verbose = 2) #verbose the higher, the more messages\n",
        "score,acc = model.evaluate(X_test,Y_test,verbose=2,batch_size=batch_size) #evaluating the model\n",
        "print(score)\n",
        "print(acc)"
      ],
      "metadata": {
        "colab": {
          "base_uri": "https://localhost:8080/"
        },
        "id": "aZZniZQHdZA0",
        "outputId": "98bcd454-3ca7-4be1-8002-f9e4042ec3b0"
      },
      "execution_count": 4,
      "outputs": [
        {
          "output_type": "stream",
          "name": "stdout",
          "text": [
            "291/291 - 57s - loss: 0.8159 - accuracy: 0.6480 - 57s/epoch - 198ms/step\n",
            "144/144 - 4s - loss: 0.7643 - accuracy: 0.6671 - 4s/epoch - 29ms/step\n",
            "0.7643396854400635\n",
            "0.6671035289764404\n"
          ]
        }
      ]
    },
    {
      "cell_type": "code",
      "source": [
        "\n",
        "print(model.metrics_names) #metrics of the model"
      ],
      "metadata": {
        "colab": {
          "base_uri": "https://localhost:8080/"
        },
        "id": "auFybgATdarG",
        "outputId": "8d8e270c-9d81-4fac-acb8-e8f68a0caa7e"
      },
      "execution_count": 5,
      "outputs": [
        {
          "output_type": "stream",
          "name": "stdout",
          "text": [
            "['loss', 'accuracy']\n"
          ]
        }
      ]
    },
    {
      "cell_type": "code",
      "source": [
        "#1. Save the model and use the saved model to predict on new text data (ex, “A lot of good things are happening. We are respected again throughout the world, and that's a great thing.@realDonaldTrump”)\n",
        "model.save('sentimentAnalysis.h5') #Saving the model"
      ],
      "metadata": {
        "id": "Hiwmx2LsdcSQ"
      },
      "execution_count": 6,
      "outputs": []
    },
    {
      "cell_type": "code",
      "source": [
        "from keras.models import load_model #Importing the package for importing the saved model\n",
        "model= load_model('sentimentAnalysis.h5') #loading the saved model"
      ],
      "metadata": {
        "id": "nAytpFHCdhjJ"
      },
      "execution_count": 7,
      "outputs": []
    },
    {
      "cell_type": "code",
      "source": [
        "print(integer_encoded)\n",
        "print(data['sentiment'])"
      ],
      "metadata": {
        "colab": {
          "base_uri": "https://localhost:8080/"
        },
        "id": "5DtTmPQ4dkiQ",
        "outputId": "09dedb18-f315-40e1-8dcb-923beac5d52a"
      },
      "execution_count": 8,
      "outputs": [
        {
          "output_type": "stream",
          "name": "stdout",
          "text": [
            "[1 2 1 ... 2 0 2]\n",
            "0         Neutral\n",
            "1        Positive\n",
            "2         Neutral\n",
            "3        Positive\n",
            "4        Positive\n",
            "           ...   \n",
            "13866    Negative\n",
            "13867    Positive\n",
            "13868    Positive\n",
            "13869    Negative\n",
            "13870    Positive\n",
            "Name: sentiment, Length: 13871, dtype: object\n"
          ]
        }
      ]
    },
    {
      "cell_type": "code",
      "source": [
        "# Predicting on the text data\n",
        "sentence = ['A lot of good things are happening. We are respected again throughout the world, and that is a great thing.@realDonaldTrump']\n",
        "sentence = tokenizer.texts_to_sequences(sentence) # Tokenizing the sentence\n",
        "sentence = pad_sequences(sentence, maxlen=28, dtype='int32', value=0) # Padding the sentence\n",
        "sentiment_probs = model.predict(sentence, batch_size=1, verbose=2)[0] # Predicting the sentence text\n",
        "sentiment = np.argmax(sentiment_probs)\n",
        "\n",
        "print(sentiment_probs)\n",
        "if sentiment == 0:\n",
        "    print(\"Neutral\")\n",
        "elif sentiment < 0:\n",
        "    print(\"Negative\")\n",
        "elif sentiment > 0:\n",
        "    print(\"Positive\")\n",
        "else:\n",
        "    print(\"Cannot be determined\")"
      ],
      "metadata": {
        "colab": {
          "base_uri": "https://localhost:8080/"
        },
        "id": "qaqTK6LBdnm5",
        "outputId": "ac1c87bc-2471-4e15-9037-8aeea362fec8"
      },
      "execution_count": 9,
      "outputs": [
        {
          "output_type": "stream",
          "name": "stdout",
          "text": [
            "1/1 - 0s - 329ms/epoch - 329ms/step\n",
            "[0.42809132 0.12700436 0.4449044 ]\n",
            "Positive\n"
          ]
        }
      ]
    },
    {
      "cell_type": "code",
      "source": [
        "#2. Apply GridSearchCV on the source code provided in the class\n"
      ],
      "metadata": {
        "id": "Vv6PcUMndreu"
      },
      "execution_count": 10,
      "outputs": []
    },
    {
      "cell_type": "code",
      "source": [
        "from keras.wrappers.scikit_learn import KerasClassifier #importing Keras classifier\n",
        "from sklearn.model_selection import GridSearchCV #importing Grid search CV\n",
        "\n",
        "model = KerasClassifier(build_fn=createmodel,verbose=2) #initiating model to test performance by applying multiple hyper parameters\n",
        "batch_size= [10, 20, 40] #hyper parameter batch_size\n",
        "epochs = [1, 2] #hyper parameter no. of epochs\n",
        "param_grid= {'batch_size':batch_size, 'epochs':epochs} #creating dictionary for batch size, no. of epochs\n",
        "grid  = GridSearchCV(estimator=model, param_grid=param_grid) #Applying dictionary with hyper parameters\n",
        "grid_result= grid.fit(X_train,Y_train) #Fitting the model\n",
        "# summarize results\n",
        "print(\"Best: %f using %s\" % (grid_result.best_score_, grid_result.best_params_)) #best score, best hyper parameters"
      ],
      "metadata": {
        "colab": {
          "base_uri": "https://localhost:8080/"
        },
        "id": "FsnZdlWqdxkv",
        "outputId": "3e96c72f-0f61-4de0-d247-a213c423b6c4"
      },
      "execution_count": 11,
      "outputs": [
        {
          "output_type": "stream",
          "name": "stderr",
          "text": [
            "<ipython-input-11-6c99b49150f4>:4: DeprecationWarning: KerasClassifier is deprecated, use Sci-Keras (https://github.com/adriangb/scikeras) instead. See https://www.adriangb.com/scikeras/stable/migration.html for help migrating.\n",
            "  model = KerasClassifier(build_fn=createmodel,verbose=2) #initiating model to test performance by applying multiple hyper parameters\n"
          ]
        },
        {
          "output_type": "stream",
          "name": "stdout",
          "text": [
            "744/744 - 116s - loss: 0.8266 - accuracy: 0.6485 - 116s/epoch - 156ms/step\n",
            "186/186 - 3s - loss: 0.7356 - accuracy: 0.6789 - 3s/epoch - 16ms/step\n",
            "744/744 - 116s - loss: 0.8192 - accuracy: 0.6488 - 116s/epoch - 155ms/step\n",
            "186/186 - 4s - loss: 0.7641 - accuracy: 0.6676 - 4s/epoch - 20ms/step\n",
            "744/744 - 114s - loss: 0.8288 - accuracy: 0.6395 - 114s/epoch - 153ms/step\n",
            "186/186 - 4s - loss: 0.7630 - accuracy: 0.6826 - 4s/epoch - 22ms/step\n",
            "744/744 - 115s - loss: 0.8252 - accuracy: 0.6469 - 115s/epoch - 155ms/step\n",
            "186/186 - 3s - loss: 0.7441 - accuracy: 0.6771 - 3s/epoch - 16ms/step\n",
            "744/744 - 113s - loss: 0.8196 - accuracy: 0.6437 - 113s/epoch - 152ms/step\n",
            "186/186 - 5s - loss: 0.7814 - accuracy: 0.6615 - 5s/epoch - 25ms/step\n",
            "Epoch 1/2\n",
            "744/744 - 116s - loss: 0.8285 - accuracy: 0.6485 - 116s/epoch - 155ms/step\n",
            "Epoch 2/2\n",
            "744/744 - 110s - loss: 0.6814 - accuracy: 0.7163 - 110s/epoch - 148ms/step\n",
            "186/186 - 3s - loss: 0.7521 - accuracy: 0.6681 - 3s/epoch - 17ms/step\n",
            "Epoch 1/2\n",
            "744/744 - 115s - loss: 0.8254 - accuracy: 0.6434 - 115s/epoch - 154ms/step\n",
            "Epoch 2/2\n",
            "744/744 - 109s - loss: 0.6875 - accuracy: 0.7066 - 109s/epoch - 147ms/step\n",
            "186/186 - 3s - loss: 0.7322 - accuracy: 0.6772 - 3s/epoch - 16ms/step\n",
            "Epoch 1/2\n",
            "744/744 - 115s - loss: 0.8311 - accuracy: 0.6421 - 115s/epoch - 155ms/step\n",
            "Epoch 2/2\n",
            "744/744 - 110s - loss: 0.6770 - accuracy: 0.7150 - 110s/epoch - 148ms/step\n",
            "186/186 - 3s - loss: 0.7515 - accuracy: 0.6891 - 3s/epoch - 17ms/step\n",
            "Epoch 1/2\n",
            "744/744 - 119s - loss: 0.8218 - accuracy: 0.6459 - 119s/epoch - 160ms/step\n",
            "Epoch 2/2\n",
            "744/744 - 115s - loss: 0.6737 - accuracy: 0.7139 - 115s/epoch - 154ms/step\n",
            "186/186 - 5s - loss: 0.7481 - accuracy: 0.6733 - 5s/epoch - 28ms/step\n",
            "Epoch 1/2\n",
            "744/744 - 115s - loss: 0.8189 - accuracy: 0.6476 - 115s/epoch - 155ms/step\n",
            "Epoch 2/2\n",
            "744/744 - 110s - loss: 0.6721 - accuracy: 0.7126 - 110s/epoch - 148ms/step\n",
            "186/186 - 4s - loss: 0.7839 - accuracy: 0.6582 - 4s/epoch - 20ms/step\n",
            "372/372 - 63s - loss: 0.8245 - accuracy: 0.6468 - 63s/epoch - 171ms/step\n",
            "93/93 - 4s - loss: 0.7572 - accuracy: 0.6649 - 4s/epoch - 39ms/step\n",
            "372/372 - 69s - loss: 0.8261 - accuracy: 0.6427 - 69s/epoch - 185ms/step\n",
            "93/93 - 2s - loss: 0.7697 - accuracy: 0.6724 - 2s/epoch - 25ms/step\n",
            "372/372 - 67s - loss: 0.8266 - accuracy: 0.6392 - 67s/epoch - 180ms/step\n",
            "93/93 - 2s - loss: 0.7893 - accuracy: 0.6703 - 2s/epoch - 23ms/step\n",
            "372/372 - 65s - loss: 0.8328 - accuracy: 0.6406 - 65s/epoch - 175ms/step\n",
            "93/93 - 3s - loss: 0.7464 - accuracy: 0.6808 - 3s/epoch - 34ms/step\n",
            "372/372 - 70s - loss: 0.8219 - accuracy: 0.6484 - 70s/epoch - 189ms/step\n",
            "93/93 - 2s - loss: 0.7874 - accuracy: 0.6625 - 2s/epoch - 25ms/step\n",
            "Epoch 1/2\n",
            "372/372 - 66s - loss: 0.8332 - accuracy: 0.6434 - 66s/epoch - 177ms/step\n",
            "Epoch 2/2\n",
            "372/372 - 64s - loss: 0.6853 - accuracy: 0.7084 - 64s/epoch - 172ms/step\n",
            "93/93 - 2s - loss: 0.7244 - accuracy: 0.6853 - 2s/epoch - 23ms/step\n",
            "Epoch 1/2\n",
            "372/372 - 65s - loss: 0.8254 - accuracy: 0.6434 - 65s/epoch - 176ms/step\n",
            "Epoch 2/2\n",
            "372/372 - 60s - loss: 0.6834 - accuracy: 0.7103 - 60s/epoch - 162ms/step\n",
            "93/93 - 2s - loss: 0.7302 - accuracy: 0.6810 - 2s/epoch - 22ms/step\n",
            "Epoch 1/2\n",
            "372/372 - 70s - loss: 0.8220 - accuracy: 0.6446 - 70s/epoch - 189ms/step\n",
            "Epoch 2/2\n",
            "372/372 - 64s - loss: 0.6759 - accuracy: 0.7084 - 64s/epoch - 172ms/step\n",
            "93/93 - 4s - loss: 0.7469 - accuracy: 0.6934 - 4s/epoch - 41ms/step\n",
            "Epoch 1/2\n",
            "372/372 - 66s - loss: 0.8317 - accuracy: 0.6469 - 66s/epoch - 179ms/step\n",
            "Epoch 2/2\n",
            "372/372 - 65s - loss: 0.6756 - accuracy: 0.7127 - 65s/epoch - 174ms/step\n",
            "93/93 - 2s - loss: 0.7656 - accuracy: 0.6868 - 2s/epoch - 24ms/step\n",
            "Epoch 1/2\n",
            "372/372 - 65s - loss: 0.8239 - accuracy: 0.6438 - 65s/epoch - 174ms/step\n",
            "Epoch 2/2\n",
            "372/372 - 62s - loss: 0.6676 - accuracy: 0.7189 - 62s/epoch - 166ms/step\n",
            "93/93 - 2s - loss: 0.7810 - accuracy: 0.6685 - 2s/epoch - 22ms/step\n",
            "186/186 - 41s - loss: 0.8520 - accuracy: 0.6341 - 41s/epoch - 222ms/step\n",
            "47/47 - 1s - loss: 0.7750 - accuracy: 0.6649 - 1s/epoch - 32ms/step\n",
            "186/186 - 44s - loss: 0.8350 - accuracy: 0.6418 - 44s/epoch - 237ms/step\n",
            "47/47 - 2s - loss: 0.7696 - accuracy: 0.6708 - 2s/epoch - 35ms/step\n",
            "186/186 - 43s - loss: 0.8443 - accuracy: 0.6347 - 43s/epoch - 233ms/step\n",
            "47/47 - 2s - loss: 0.7667 - accuracy: 0.6719 - 2s/epoch - 32ms/step\n",
            "186/186 - 43s - loss: 0.8509 - accuracy: 0.6346 - 43s/epoch - 230ms/step\n",
            "47/47 - 2s - loss: 0.7729 - accuracy: 0.6566 - 2s/epoch - 33ms/step\n",
            "186/186 - 45s - loss: 0.8444 - accuracy: 0.6343 - 45s/epoch - 241ms/step\n",
            "47/47 - 2s - loss: 0.7802 - accuracy: 0.6647 - 2s/epoch - 34ms/step\n",
            "Epoch 1/2\n",
            "186/186 - 43s - loss: 0.8472 - accuracy: 0.6338 - 43s/epoch - 233ms/step\n",
            "Epoch 2/2\n",
            "186/186 - 40s - loss: 0.6986 - accuracy: 0.6979 - 40s/epoch - 217ms/step\n",
            "47/47 - 2s - loss: 0.7312 - accuracy: 0.6842 - 2s/epoch - 33ms/step\n",
            "Epoch 1/2\n",
            "186/186 - 42s - loss: 0.8451 - accuracy: 0.6361 - 42s/epoch - 226ms/step\n",
            "Epoch 2/2\n",
            "186/186 - 39s - loss: 0.6906 - accuracy: 0.7000 - 39s/epoch - 211ms/step\n",
            "47/47 - 2s - loss: 0.7559 - accuracy: 0.6842 - 2s/epoch - 39ms/step\n",
            "Epoch 1/2\n",
            "186/186 - 44s - loss: 0.8456 - accuracy: 0.6298 - 44s/epoch - 236ms/step\n",
            "Epoch 2/2\n",
            "186/186 - 40s - loss: 0.6921 - accuracy: 0.7057 - 40s/epoch - 214ms/step\n",
            "47/47 - 2s - loss: 0.7897 - accuracy: 0.6638 - 2s/epoch - 35ms/step\n",
            "Epoch 1/2\n",
            "186/186 - 43s - loss: 0.8456 - accuracy: 0.6391 - 43s/epoch - 231ms/step\n",
            "Epoch 2/2\n",
            "186/186 - 40s - loss: 0.6864 - accuracy: 0.7037 - 40s/epoch - 217ms/step\n",
            "47/47 - 2s - loss: 0.7489 - accuracy: 0.6857 - 2s/epoch - 46ms/step\n",
            "Epoch 1/2\n",
            "186/186 - 41s - loss: 0.8538 - accuracy: 0.6316 - 41s/epoch - 221ms/step\n",
            "Epoch 2/2\n",
            "186/186 - 39s - loss: 0.6858 - accuracy: 0.7072 - 39s/epoch - 209ms/step\n",
            "47/47 - 2s - loss: 0.7689 - accuracy: 0.6749 - 2s/epoch - 33ms/step\n",
            "Epoch 1/2\n",
            "465/465 - 86s - loss: 0.8222 - accuracy: 0.6479 - 86s/epoch - 184ms/step\n",
            "Epoch 2/2\n",
            "465/465 - 82s - loss: 0.6737 - accuracy: 0.7127 - 82s/epoch - 177ms/step\n",
            "Best: 0.682986 using {'batch_size': 20, 'epochs': 2}\n"
          ]
        }
      ]
    }
  ]
}